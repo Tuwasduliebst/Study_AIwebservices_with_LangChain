{
 "cells": [
  {
   "cell_type": "code",
   "execution_count": 5,
   "metadata": {},
   "outputs": [
    {
     "data": {
      "text/plain": [
       "'The distance between Mexico and Thailand is approximately 16,000 kilometers (9,942 miles).'"
      ]
     },
     "execution_count": 5,
     "metadata": {},
     "output_type": "execute_result"
    }
   ],
   "source": [
    "# setting virtual environments\n",
    "# - env/\n",
    "# python -m venv ./env or python3.11 -m venv ./env\n",
    "# .gitignore > env/\n",
    "# source env/bin/activate\n",
    "# deactivate\n",
    "# pip install -r requirements.txt\n",
    "# insert api key, .env\n",
    "\n",
    "# from langchain.llms.openai import OpenAI\n",
    "from langchain.chat_models import ChatOpenAI\n",
    "from langchain.prompts import (\n",
    "    PromptTemplate,\n",
    "    ChatPromptTemplate,\n",
    ")  # ChatPromptTemplate은  template을 메시지로부터 만들고 PromptTemplate 은 그냥 string을 이용해서 template을 만듦.\n",
    "\n",
    "# llm = OpenAI()\n",
    "chat = ChatOpenAI(\n",
    "    temperature=0.1  # 창의력을 결정. 값이 낮을수록 창의성 저하.\n",
    "    # max_tokens= 최대 토큰값 정함.\n",
    ")\n",
    "template = PromptTemplate.from_template(\n",
    "    \"What is the distance between {country_a} and {country_b}\",\n",
    ")\n",
    "\n",
    "# a = llm.predict(\"How many planets are there?\") # text-davinci language model호출.\n",
    "# b = chat.predict(\"How many planets are there?\")  # gpt-3.5-turbo 호출. 훨씬 저렴함.\n",
    "prompt = template.format(country_a=\"Mexico\", country_b=\"Thailand\")\n",
    "chat.predict(prompt)\n",
    "# a\n",
    "# b"
   ]
  },
  {
   "cell_type": "code",
   "execution_count": 8,
   "metadata": {},
   "outputs": [
    {
     "data": {
      "text/plain": [
       "AIMessage(content='Γεια σου! Το όνομά μου είναι Σωκράτης. Η απόσταση μεταξύ του Μεξικού και της Ταϊλάνδης είναι περίπου 17.000 χιλιόμετρα.')"
      ]
     },
     "execution_count": 8,
     "metadata": {},
     "output_type": "execute_result"
    }
   ],
   "source": [
    "# from langchain.schema import (\n",
    "#     HumanMessage,\n",
    "#     AIMessage,\n",
    "#     SystemMessage,\n",
    "# )  # SystemMessage:LLM에 설정제공 위한 메시지\n",
    "\n",
    "\n",
    "# messages = [\n",
    "#     SystemMessage(\n",
    "#         content=\"You are a geography expert. And you only reply in {language}.\",\n",
    "#     ),\n",
    "#     AIMessage(content=\"Ciao, mi chiamo {name}!\"),\n",
    "#     HumanMessage(\n",
    "#         content=\"What is the distance between {country_a} and {country_b}. Also, what is your name?\",\n",
    "#     ),\n",
    "# ]\n",
    "# 위 messages를 아래와 같이 튜플로\n",
    "\n",
    "template = ChatPromptTemplate.from_messages(\n",
    "    [  # ChatPromptTemplate 이용해서 커스텀하기\n",
    "        (\"system\", \"You are a geography expert. And you only reply in {language}.\"),\n",
    "        (\"ai\", \"Ciao, mi chiamo {name}!\"),\n",
    "        (\n",
    "            \"human\",\n",
    "            \"What is the distance between {country_a} and {country_b}. Also, what is your name?\",\n",
    "        ),\n",
    "    ]\n",
    ")\n",
    "\n",
    "\n",
    "# chat.predict_messages(messages)\n",
    "prompt = template.format_messages(  # 변수들을 검증\n",
    "    language=\"Greek\", name=\"Socrates\", country_a=\"Mexico\", country_b=\"Thailand\"\n",
    ")\n",
    "\n",
    "chat.predict_messages(prompt)"
   ]
  }
 ],
 "metadata": {
  "kernelspec": {
   "display_name": "env",
   "language": "python",
   "name": "python3"
  },
  "language_info": {
   "codemirror_mode": {
    "name": "ipython",
    "version": 3
   },
   "file_extension": ".py",
   "mimetype": "text/x-python",
   "name": "python",
   "nbconvert_exporter": "python",
   "pygments_lexer": "ipython3",
   "version": "3.9.6"
  }
 },
 "nbformat": 4,
 "nbformat_minor": 2
}
